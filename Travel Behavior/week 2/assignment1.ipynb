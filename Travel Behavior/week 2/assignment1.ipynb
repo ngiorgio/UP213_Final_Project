{
 "cells": [
  {
   "cell_type": "markdown",
   "metadata": {
    "id": "sXbmBwCpA8hO"
   },
   "source": [
    "The following lines of code can be used to import Python Biogeme and estimate a simple model, using the sample Swiss Metro Dataset"
   ]
  },
  {
   "cell_type": "code",
   "execution_count": 2,
   "metadata": {},
   "outputs": [
    {
     "name": "stdout",
     "output_type": "stream",
     "text": [
      "Collecting biogeme\n",
      "  Using cached biogeme-3.2.14-py3-none-any.whl.metadata (2.6 kB)\n",
      "Requirement already satisfied: pandas<3,>=2.2.2 in /opt/conda/lib/python3.11/site-packages (from biogeme) (2.2.2)\n",
      "Requirement already satisfied: scipy<2,>=1.14.0 in /opt/conda/lib/python3.11/site-packages (from biogeme) (1.14.1)\n",
      "Requirement already satisfied: tqdm>=4.66.4 in /opt/conda/lib/python3.11/site-packages (from biogeme) (4.66.5)\n",
      "Collecting tomlkit>=0.12.5 (from biogeme)\n",
      "  Using cached tomlkit-0.13.2-py3-none-any.whl.metadata (2.7 kB)\n",
      "Collecting python-levenshtein>=0.25.1 (from biogeme)\n",
      "  Using cached python_Levenshtein-0.26.1-py3-none-any.whl.metadata (3.7 kB)\n",
      "Collecting fuzzywuzzy>=0.18.0 (from biogeme)\n",
      "  Using cached fuzzywuzzy-0.18.0-py2.py3-none-any.whl.metadata (4.9 kB)\n",
      "Collecting cythonbiogeme==1.0.4 (from biogeme)\n",
      "  Using cached cythonbiogeme-1.0.4-cp311-cp311-linux_x86_64.whl\n",
      "Collecting biogeme-optimization==0.0.10 (from biogeme)\n",
      "  Using cached biogeme_optimization-0.0.10-py3-none-any.whl.metadata (3.7 kB)\n",
      "Requirement already satisfied: matplotlib<4,>=3.9.0 in /opt/conda/lib/python3.11/site-packages (from biogeme) (3.9.2)\n",
      "Requirement already satisfied: numpy<3,>=2.0.0 in /opt/conda/lib/python3.11/site-packages (from biogeme) (2.0.2)\n",
      "Requirement already satisfied: ipython>=8.25.0 in /opt/conda/lib/python3.11/site-packages (from biogeme) (8.27.0)\n",
      "Requirement already satisfied: Jinja2>=3.1.4 in /opt/conda/lib/python3.11/site-packages (from biogeme) (3.1.4)\n",
      "Requirement already satisfied: decorator in /opt/conda/lib/python3.11/site-packages (from ipython>=8.25.0->biogeme) (5.1.1)\n",
      "Requirement already satisfied: jedi>=0.16 in /opt/conda/lib/python3.11/site-packages (from ipython>=8.25.0->biogeme) (0.19.1)\n",
      "Requirement already satisfied: matplotlib-inline in /opt/conda/lib/python3.11/site-packages (from ipython>=8.25.0->biogeme) (0.1.7)\n",
      "Requirement already satisfied: prompt-toolkit<3.1.0,>=3.0.41 in /opt/conda/lib/python3.11/site-packages (from ipython>=8.25.0->biogeme) (3.0.47)\n",
      "Requirement already satisfied: pygments>=2.4.0 in /opt/conda/lib/python3.11/site-packages (from ipython>=8.25.0->biogeme) (2.18.0)\n",
      "Requirement already satisfied: stack-data in /opt/conda/lib/python3.11/site-packages (from ipython>=8.25.0->biogeme) (0.6.2)\n",
      "Requirement already satisfied: traitlets>=5.13.0 in /opt/conda/lib/python3.11/site-packages (from ipython>=8.25.0->biogeme) (5.14.3)\n",
      "Requirement already satisfied: typing-extensions>=4.6 in /opt/conda/lib/python3.11/site-packages (from ipython>=8.25.0->biogeme) (4.12.2)\n",
      "Requirement already satisfied: pexpect>4.3 in /opt/conda/lib/python3.11/site-packages (from ipython>=8.25.0->biogeme) (4.9.0)\n",
      "Requirement already satisfied: MarkupSafe>=2.0 in /opt/conda/lib/python3.11/site-packages (from Jinja2>=3.1.4->biogeme) (2.1.5)\n",
      "Requirement already satisfied: contourpy>=1.0.1 in /opt/conda/lib/python3.11/site-packages (from matplotlib<4,>=3.9.0->biogeme) (1.3.0)\n",
      "Requirement already satisfied: cycler>=0.10 in /opt/conda/lib/python3.11/site-packages (from matplotlib<4,>=3.9.0->biogeme) (0.12.1)\n",
      "Requirement already satisfied: fonttools>=4.22.0 in /opt/conda/lib/python3.11/site-packages (from matplotlib<4,>=3.9.0->biogeme) (4.53.1)\n",
      "Requirement already satisfied: kiwisolver>=1.3.1 in /opt/conda/lib/python3.11/site-packages (from matplotlib<4,>=3.9.0->biogeme) (1.4.7)\n",
      "Requirement already satisfied: packaging>=20.0 in /opt/conda/lib/python3.11/site-packages (from matplotlib<4,>=3.9.0->biogeme) (24.1)\n",
      "Requirement already satisfied: pillow>=8 in /opt/conda/lib/python3.11/site-packages (from matplotlib<4,>=3.9.0->biogeme) (10.4.0)\n",
      "Requirement already satisfied: pyparsing>=2.3.1 in /opt/conda/lib/python3.11/site-packages (from matplotlib<4,>=3.9.0->biogeme) (3.1.4)\n",
      "Requirement already satisfied: python-dateutil>=2.7 in /opt/conda/lib/python3.11/site-packages (from matplotlib<4,>=3.9.0->biogeme) (2.9.0)\n",
      "Requirement already satisfied: pytz>=2020.1 in /opt/conda/lib/python3.11/site-packages (from pandas<3,>=2.2.2->biogeme) (2024.1)\n",
      "Requirement already satisfied: tzdata>=2022.7 in /opt/conda/lib/python3.11/site-packages (from pandas<3,>=2.2.2->biogeme) (2024.1)\n",
      "Collecting Levenshtein==0.26.1 (from python-levenshtein>=0.25.1->biogeme)\n",
      "  Using cached levenshtein-0.26.1-cp311-cp311-manylinux_2_17_x86_64.manylinux2014_x86_64.whl.metadata (3.2 kB)\n",
      "Collecting rapidfuzz<4.0.0,>=3.9.0 (from Levenshtein==0.26.1->python-levenshtein>=0.25.1->biogeme)\n",
      "  Downloading rapidfuzz-3.12.1-cp311-cp311-manylinux_2_17_x86_64.manylinux2014_x86_64.whl.metadata (11 kB)\n",
      "Requirement already satisfied: parso<0.9.0,>=0.8.3 in /opt/conda/lib/python3.11/site-packages (from jedi>=0.16->ipython>=8.25.0->biogeme) (0.8.4)\n",
      "Requirement already satisfied: ptyprocess>=0.5 in /opt/conda/lib/python3.11/site-packages (from pexpect>4.3->ipython>=8.25.0->biogeme) (0.7.0)\n",
      "Requirement already satisfied: wcwidth in /opt/conda/lib/python3.11/site-packages (from prompt-toolkit<3.1.0,>=3.0.41->ipython>=8.25.0->biogeme) (0.2.13)\n",
      "Requirement already satisfied: six>=1.5 in /opt/conda/lib/python3.11/site-packages (from python-dateutil>=2.7->matplotlib<4,>=3.9.0->biogeme) (1.16.0)\n",
      "Requirement already satisfied: executing>=1.2.0 in /opt/conda/lib/python3.11/site-packages (from stack-data->ipython>=8.25.0->biogeme) (2.1.0)\n",
      "Requirement already satisfied: asttokens>=2.1.0 in /opt/conda/lib/python3.11/site-packages (from stack-data->ipython>=8.25.0->biogeme) (2.4.1)\n",
      "Requirement already satisfied: pure-eval in /opt/conda/lib/python3.11/site-packages (from stack-data->ipython>=8.25.0->biogeme) (0.2.3)\n",
      "Using cached biogeme-3.2.14-py3-none-any.whl (484 kB)\n",
      "Using cached biogeme_optimization-0.0.10-py3-none-any.whl (48 kB)\n",
      "Using cached fuzzywuzzy-0.18.0-py2.py3-none-any.whl (18 kB)\n",
      "Using cached python_Levenshtein-0.26.1-py3-none-any.whl (9.4 kB)\n",
      "Using cached levenshtein-0.26.1-cp311-cp311-manylinux_2_17_x86_64.manylinux2014_x86_64.whl (162 kB)\n",
      "Using cached tomlkit-0.13.2-py3-none-any.whl (37 kB)\n",
      "Downloading rapidfuzz-3.12.1-cp311-cp311-manylinux_2_17_x86_64.manylinux2014_x86_64.whl (3.1 MB)\n",
      "\u001b[2K   \u001b[90m━━━━━━━━━━━━━━━━━━━━━━━━━━━━━━━━━━━━━━━━\u001b[0m \u001b[32m3.1/3.1 MB\u001b[0m \u001b[31m36.0 MB/s\u001b[0m eta \u001b[36m0:00:00\u001b[0m\n",
      "\u001b[?25hInstalling collected packages: fuzzywuzzy, tomlkit, rapidfuzz, cythonbiogeme, Levenshtein, python-levenshtein, biogeme-optimization, biogeme\n",
      "Successfully installed Levenshtein-0.26.1 biogeme-3.2.14 biogeme-optimization-0.0.10 cythonbiogeme-1.0.4 fuzzywuzzy-0.18.0 python-levenshtein-0.26.1 rapidfuzz-3.12.1 tomlkit-0.13.2\n",
      "Note: you may need to restart the kernel to use updated packages.\n"
     ]
    }
   ],
   "source": [
    "pip install biogeme"
   ]
  },
  {
   "cell_type": "code",
   "execution_count": 3,
   "metadata": {
    "id": "Y7TecqMj9VE3"
   },
   "outputs": [],
   "source": [
    "import pandas  as pd\n",
    "import numpy as np\n",
    "import biogeme.database as db\n",
    "import biogeme.biogeme as bio\n",
    "import biogeme.models as models\n",
    "import biogeme.expressions as exp\n",
    "import seaborn as sns\n",
    "import matplotlib.pyplot as plt"
   ]
  },
  {
   "cell_type": "code",
   "execution_count": 6,
   "metadata": {
    "id": "Dyr2lv5W9uKB"
   },
   "outputs": [],
   "source": [
    "data_file = \"data/netherlands_BL.dat\""
   ]
  },
  {
   "cell_type": "code",
   "execution_count": 11,
   "metadata": {},
   "outputs": [],
   "source": [
    "data_file2 = \"data/swissmetro_Lab1.dat\""
   ]
  },
  {
   "cell_type": "code",
   "execution_count": 12,
   "metadata": {},
   "outputs": [
    {
     "data": {
      "text/html": [
       "<div>\n",
       "<style scoped>\n",
       "    .dataframe tbody tr th:only-of-type {\n",
       "        vertical-align: middle;\n",
       "    }\n",
       "\n",
       "    .dataframe tbody tr th {\n",
       "        vertical-align: top;\n",
       "    }\n",
       "\n",
       "    .dataframe thead th {\n",
       "        text-align: right;\n",
       "    }\n",
       "</style>\n",
       "<table border=\"1\" class=\"dataframe\">\n",
       "  <thead>\n",
       "    <tr style=\"text-align: right;\">\n",
       "      <th></th>\n",
       "      <th>GROUP</th>\n",
       "      <th>SURVEY</th>\n",
       "      <th>SP</th>\n",
       "      <th>ID</th>\n",
       "      <th>PURPOSE</th>\n",
       "      <th>FIRST</th>\n",
       "      <th>TICKET</th>\n",
       "      <th>WHO</th>\n",
       "      <th>LUGGAGE</th>\n",
       "      <th>AGE</th>\n",
       "      <th>...</th>\n",
       "      <th>TRAIN_TT</th>\n",
       "      <th>TRAIN_CO</th>\n",
       "      <th>TRAIN_FR</th>\n",
       "      <th>SM_TT</th>\n",
       "      <th>SM_CO</th>\n",
       "      <th>SM_FR</th>\n",
       "      <th>SM_SEATS</th>\n",
       "      <th>CAR_TT</th>\n",
       "      <th>CAR_CO</th>\n",
       "      <th>CHOICE</th>\n",
       "    </tr>\n",
       "  </thead>\n",
       "  <tbody>\n",
       "    <tr>\n",
       "      <th>0</th>\n",
       "      <td>2</td>\n",
       "      <td>0</td>\n",
       "      <td>1</td>\n",
       "      <td>1</td>\n",
       "      <td>1</td>\n",
       "      <td>0</td>\n",
       "      <td>1</td>\n",
       "      <td>1</td>\n",
       "      <td>0</td>\n",
       "      <td>3</td>\n",
       "      <td>...</td>\n",
       "      <td>112</td>\n",
       "      <td>48</td>\n",
       "      <td>120</td>\n",
       "      <td>63</td>\n",
       "      <td>52</td>\n",
       "      <td>20</td>\n",
       "      <td>0</td>\n",
       "      <td>117</td>\n",
       "      <td>65</td>\n",
       "      <td>2</td>\n",
       "    </tr>\n",
       "    <tr>\n",
       "      <th>1</th>\n",
       "      <td>2</td>\n",
       "      <td>0</td>\n",
       "      <td>1</td>\n",
       "      <td>1</td>\n",
       "      <td>1</td>\n",
       "      <td>0</td>\n",
       "      <td>1</td>\n",
       "      <td>1</td>\n",
       "      <td>0</td>\n",
       "      <td>3</td>\n",
       "      <td>...</td>\n",
       "      <td>103</td>\n",
       "      <td>48</td>\n",
       "      <td>30</td>\n",
       "      <td>60</td>\n",
       "      <td>49</td>\n",
       "      <td>10</td>\n",
       "      <td>0</td>\n",
       "      <td>117</td>\n",
       "      <td>84</td>\n",
       "      <td>2</td>\n",
       "    </tr>\n",
       "    <tr>\n",
       "      <th>2</th>\n",
       "      <td>2</td>\n",
       "      <td>0</td>\n",
       "      <td>1</td>\n",
       "      <td>1</td>\n",
       "      <td>1</td>\n",
       "      <td>0</td>\n",
       "      <td>1</td>\n",
       "      <td>1</td>\n",
       "      <td>0</td>\n",
       "      <td>3</td>\n",
       "      <td>...</td>\n",
       "      <td>130</td>\n",
       "      <td>48</td>\n",
       "      <td>60</td>\n",
       "      <td>67</td>\n",
       "      <td>58</td>\n",
       "      <td>30</td>\n",
       "      <td>0</td>\n",
       "      <td>117</td>\n",
       "      <td>52</td>\n",
       "      <td>2</td>\n",
       "    </tr>\n",
       "    <tr>\n",
       "      <th>3</th>\n",
       "      <td>2</td>\n",
       "      <td>0</td>\n",
       "      <td>1</td>\n",
       "      <td>1</td>\n",
       "      <td>1</td>\n",
       "      <td>0</td>\n",
       "      <td>1</td>\n",
       "      <td>1</td>\n",
       "      <td>0</td>\n",
       "      <td>3</td>\n",
       "      <td>...</td>\n",
       "      <td>103</td>\n",
       "      <td>40</td>\n",
       "      <td>30</td>\n",
       "      <td>63</td>\n",
       "      <td>52</td>\n",
       "      <td>20</td>\n",
       "      <td>0</td>\n",
       "      <td>72</td>\n",
       "      <td>52</td>\n",
       "      <td>2</td>\n",
       "    </tr>\n",
       "    <tr>\n",
       "      <th>4</th>\n",
       "      <td>2</td>\n",
       "      <td>0</td>\n",
       "      <td>1</td>\n",
       "      <td>1</td>\n",
       "      <td>1</td>\n",
       "      <td>0</td>\n",
       "      <td>1</td>\n",
       "      <td>1</td>\n",
       "      <td>0</td>\n",
       "      <td>3</td>\n",
       "      <td>...</td>\n",
       "      <td>130</td>\n",
       "      <td>36</td>\n",
       "      <td>60</td>\n",
       "      <td>63</td>\n",
       "      <td>42</td>\n",
       "      <td>20</td>\n",
       "      <td>0</td>\n",
       "      <td>90</td>\n",
       "      <td>84</td>\n",
       "      <td>2</td>\n",
       "    </tr>\n",
       "    <tr>\n",
       "      <th>...</th>\n",
       "      <td>...</td>\n",
       "      <td>...</td>\n",
       "      <td>...</td>\n",
       "      <td>...</td>\n",
       "      <td>...</td>\n",
       "      <td>...</td>\n",
       "      <td>...</td>\n",
       "      <td>...</td>\n",
       "      <td>...</td>\n",
       "      <td>...</td>\n",
       "      <td>...</td>\n",
       "      <td>...</td>\n",
       "      <td>...</td>\n",
       "      <td>...</td>\n",
       "      <td>...</td>\n",
       "      <td>...</td>\n",
       "      <td>...</td>\n",
       "      <td>...</td>\n",
       "      <td>...</td>\n",
       "      <td>...</td>\n",
       "      <td>...</td>\n",
       "    </tr>\n",
       "    <tr>\n",
       "      <th>10723</th>\n",
       "      <td>3</td>\n",
       "      <td>1</td>\n",
       "      <td>1</td>\n",
       "      <td>1192</td>\n",
       "      <td>4</td>\n",
       "      <td>1</td>\n",
       "      <td>7</td>\n",
       "      <td>1</td>\n",
       "      <td>0</td>\n",
       "      <td>5</td>\n",
       "      <td>...</td>\n",
       "      <td>148</td>\n",
       "      <td>13</td>\n",
       "      <td>30</td>\n",
       "      <td>93</td>\n",
       "      <td>17</td>\n",
       "      <td>30</td>\n",
       "      <td>0</td>\n",
       "      <td>156</td>\n",
       "      <td>56</td>\n",
       "      <td>2</td>\n",
       "    </tr>\n",
       "    <tr>\n",
       "      <th>10724</th>\n",
       "      <td>3</td>\n",
       "      <td>1</td>\n",
       "      <td>1</td>\n",
       "      <td>1192</td>\n",
       "      <td>4</td>\n",
       "      <td>1</td>\n",
       "      <td>7</td>\n",
       "      <td>1</td>\n",
       "      <td>0</td>\n",
       "      <td>5</td>\n",
       "      <td>...</td>\n",
       "      <td>148</td>\n",
       "      <td>12</td>\n",
       "      <td>30</td>\n",
       "      <td>96</td>\n",
       "      <td>16</td>\n",
       "      <td>10</td>\n",
       "      <td>0</td>\n",
       "      <td>96</td>\n",
       "      <td>70</td>\n",
       "      <td>3</td>\n",
       "    </tr>\n",
       "    <tr>\n",
       "      <th>10725</th>\n",
       "      <td>3</td>\n",
       "      <td>1</td>\n",
       "      <td>1</td>\n",
       "      <td>1192</td>\n",
       "      <td>4</td>\n",
       "      <td>1</td>\n",
       "      <td>7</td>\n",
       "      <td>1</td>\n",
       "      <td>0</td>\n",
       "      <td>5</td>\n",
       "      <td>...</td>\n",
       "      <td>148</td>\n",
       "      <td>16</td>\n",
       "      <td>60</td>\n",
       "      <td>93</td>\n",
       "      <td>16</td>\n",
       "      <td>20</td>\n",
       "      <td>0</td>\n",
       "      <td>96</td>\n",
       "      <td>56</td>\n",
       "      <td>3</td>\n",
       "    </tr>\n",
       "    <tr>\n",
       "      <th>10726</th>\n",
       "      <td>3</td>\n",
       "      <td>1</td>\n",
       "      <td>1</td>\n",
       "      <td>1192</td>\n",
       "      <td>4</td>\n",
       "      <td>1</td>\n",
       "      <td>7</td>\n",
       "      <td>1</td>\n",
       "      <td>0</td>\n",
       "      <td>5</td>\n",
       "      <td>...</td>\n",
       "      <td>178</td>\n",
       "      <td>16</td>\n",
       "      <td>30</td>\n",
       "      <td>96</td>\n",
       "      <td>17</td>\n",
       "      <td>30</td>\n",
       "      <td>0</td>\n",
       "      <td>96</td>\n",
       "      <td>91</td>\n",
       "      <td>2</td>\n",
       "    </tr>\n",
       "    <tr>\n",
       "      <th>10727</th>\n",
       "      <td>3</td>\n",
       "      <td>1</td>\n",
       "      <td>1</td>\n",
       "      <td>1192</td>\n",
       "      <td>4</td>\n",
       "      <td>1</td>\n",
       "      <td>7</td>\n",
       "      <td>1</td>\n",
       "      <td>0</td>\n",
       "      <td>5</td>\n",
       "      <td>...</td>\n",
       "      <td>148</td>\n",
       "      <td>13</td>\n",
       "      <td>60</td>\n",
       "      <td>96</td>\n",
       "      <td>21</td>\n",
       "      <td>30</td>\n",
       "      <td>0</td>\n",
       "      <td>120</td>\n",
       "      <td>70</td>\n",
       "      <td>3</td>\n",
       "    </tr>\n",
       "  </tbody>\n",
       "</table>\n",
       "<p>10728 rows × 28 columns</p>\n",
       "</div>"
      ],
      "text/plain": [
       "       GROUP  SURVEY  SP    ID  PURPOSE  FIRST  TICKET  WHO  LUGGAGE  AGE  \\\n",
       "0          2       0   1     1        1      0       1    1        0    3   \n",
       "1          2       0   1     1        1      0       1    1        0    3   \n",
       "2          2       0   1     1        1      0       1    1        0    3   \n",
       "3          2       0   1     1        1      0       1    1        0    3   \n",
       "4          2       0   1     1        1      0       1    1        0    3   \n",
       "...      ...     ...  ..   ...      ...    ...     ...  ...      ...  ...   \n",
       "10723      3       1   1  1192        4      1       7    1        0    5   \n",
       "10724      3       1   1  1192        4      1       7    1        0    5   \n",
       "10725      3       1   1  1192        4      1       7    1        0    5   \n",
       "10726      3       1   1  1192        4      1       7    1        0    5   \n",
       "10727      3       1   1  1192        4      1       7    1        0    5   \n",
       "\n",
       "       ...  TRAIN_TT  TRAIN_CO  TRAIN_FR  SM_TT  SM_CO  SM_FR  SM_SEATS  \\\n",
       "0      ...       112        48       120     63     52     20         0   \n",
       "1      ...       103        48        30     60     49     10         0   \n",
       "2      ...       130        48        60     67     58     30         0   \n",
       "3      ...       103        40        30     63     52     20         0   \n",
       "4      ...       130        36        60     63     42     20         0   \n",
       "...    ...       ...       ...       ...    ...    ...    ...       ...   \n",
       "10723  ...       148        13        30     93     17     30         0   \n",
       "10724  ...       148        12        30     96     16     10         0   \n",
       "10725  ...       148        16        60     93     16     20         0   \n",
       "10726  ...       178        16        30     96     17     30         0   \n",
       "10727  ...       148        13        60     96     21     30         0   \n",
       "\n",
       "       CAR_TT  CAR_CO  CHOICE  \n",
       "0         117      65       2  \n",
       "1         117      84       2  \n",
       "2         117      52       2  \n",
       "3          72      52       2  \n",
       "4          90      84       2  \n",
       "...       ...     ...     ...  \n",
       "10723     156      56       2  \n",
       "10724      96      70       3  \n",
       "10725      96      56       3  \n",
       "10726      96      91       2  \n",
       "10727     120      70       3  \n",
       "\n",
       "[10728 rows x 28 columns]"
      ]
     },
     "execution_count": 12,
     "metadata": {},
     "output_type": "execute_result"
    }
   ],
   "source": [
    "df2 = pd.read_csv(data_file2, sep='\\t')\n",
    "df2\n"
   ]
  },
  {
   "cell_type": "code",
   "execution_count": 17,
   "metadata": {},
   "outputs": [
    {
     "data": {
      "text/plain": [
       "array([1, 2, 3, 4, 5, 6, 7, 8, 9])"
      ]
     },
     "execution_count": 17,
     "metadata": {},
     "output_type": "execute_result"
    }
   ],
   "source": [
    "df2['PURPOSE'].unique()"
   ]
  },
  {
   "cell_type": "code",
   "execution_count": 19,
   "metadata": {},
   "outputs": [
    {
     "data": {
      "text/plain": [
       "array([0, 1])"
      ]
     },
     "execution_count": 19,
     "metadata": {},
     "output_type": "execute_result"
    }
   ],
   "source": [
    "df['purpose'].unique()"
   ]
  },
  {
   "cell_type": "code",
   "execution_count": 7,
   "metadata": {
    "colab": {
     "base_uri": "https://localhost:8080/",
     "height": 478
    },
    "id": "9jNd_g2xOGp4",
    "outputId": "7ffbd399-8a12-4fb2-b32c-eb05150b6390"
   },
   "outputs": [
    {
     "data": {
      "text/html": [
       "<div>\n",
       "<style scoped>\n",
       "    .dataframe tbody tr th:only-of-type {\n",
       "        vertical-align: middle;\n",
       "    }\n",
       "\n",
       "    .dataframe tbody tr th {\n",
       "        vertical-align: top;\n",
       "    }\n",
       "\n",
       "    .dataframe thead th {\n",
       "        text-align: right;\n",
       "    }\n",
       "</style>\n",
       "<table border=\"1\" class=\"dataframe\">\n",
       "  <thead>\n",
       "    <tr style=\"text-align: right;\">\n",
       "      <th></th>\n",
       "      <th>id</th>\n",
       "      <th>choice</th>\n",
       "      <th>purpose</th>\n",
       "      <th>age</th>\n",
       "      <th>gender</th>\n",
       "      <th>rail_ivtt</th>\n",
       "      <th>rail_cost</th>\n",
       "      <th>rail_transfers</th>\n",
       "      <th>rail_acc_time</th>\n",
       "      <th>rail_egr_time</th>\n",
       "      <th>car_ivtt</th>\n",
       "      <th>car_cost</th>\n",
       "      <th>car_walk_time</th>\n",
       "      <th>avail0</th>\n",
       "      <th>avail1</th>\n",
       "    </tr>\n",
       "  </thead>\n",
       "  <tbody>\n",
       "    <tr>\n",
       "      <th>0</th>\n",
       "      <td>1</td>\n",
       "      <td>0</td>\n",
       "      <td>0</td>\n",
       "      <td>0</td>\n",
       "      <td>1</td>\n",
       "      <td>2.000</td>\n",
       "      <td>40.0</td>\n",
       "      <td>0</td>\n",
       "      <td>0.333</td>\n",
       "      <td>0.167</td>\n",
       "      <td>1.000</td>\n",
       "      <td>5.000</td>\n",
       "      <td>0.167</td>\n",
       "      <td>1</td>\n",
       "      <td>1</td>\n",
       "    </tr>\n",
       "    <tr>\n",
       "      <th>1</th>\n",
       "      <td>2</td>\n",
       "      <td>0</td>\n",
       "      <td>0</td>\n",
       "      <td>0</td>\n",
       "      <td>1</td>\n",
       "      <td>1.633</td>\n",
       "      <td>35.0</td>\n",
       "      <td>0</td>\n",
       "      <td>0.133</td>\n",
       "      <td>0.250</td>\n",
       "      <td>1.500</td>\n",
       "      <td>9.000</td>\n",
       "      <td>0.017</td>\n",
       "      <td>1</td>\n",
       "      <td>1</td>\n",
       "    </tr>\n",
       "    <tr>\n",
       "      <th>2</th>\n",
       "      <td>3</td>\n",
       "      <td>0</td>\n",
       "      <td>0</td>\n",
       "      <td>0</td>\n",
       "      <td>0</td>\n",
       "      <td>1.500</td>\n",
       "      <td>24.0</td>\n",
       "      <td>0</td>\n",
       "      <td>0.500</td>\n",
       "      <td>0.017</td>\n",
       "      <td>1.633</td>\n",
       "      <td>11.500</td>\n",
       "      <td>0.333</td>\n",
       "      <td>1</td>\n",
       "      <td>1</td>\n",
       "    </tr>\n",
       "    <tr>\n",
       "      <th>3</th>\n",
       "      <td>4</td>\n",
       "      <td>0</td>\n",
       "      <td>0</td>\n",
       "      <td>1</td>\n",
       "      <td>0</td>\n",
       "      <td>1.000</td>\n",
       "      <td>7.8</td>\n",
       "      <td>1</td>\n",
       "      <td>0.500</td>\n",
       "      <td>0.250</td>\n",
       "      <td>1.500</td>\n",
       "      <td>8.333</td>\n",
       "      <td>0.500</td>\n",
       "      <td>1</td>\n",
       "      <td>1</td>\n",
       "    </tr>\n",
       "    <tr>\n",
       "      <th>4</th>\n",
       "      <td>5</td>\n",
       "      <td>0</td>\n",
       "      <td>0</td>\n",
       "      <td>0</td>\n",
       "      <td>1</td>\n",
       "      <td>1.667</td>\n",
       "      <td>28.0</td>\n",
       "      <td>1</td>\n",
       "      <td>0.200</td>\n",
       "      <td>0.167</td>\n",
       "      <td>1.250</td>\n",
       "      <td>5.000</td>\n",
       "      <td>0.017</td>\n",
       "      <td>1</td>\n",
       "      <td>1</td>\n",
       "    </tr>\n",
       "    <tr>\n",
       "      <th>...</th>\n",
       "      <td>...</td>\n",
       "      <td>...</td>\n",
       "      <td>...</td>\n",
       "      <td>...</td>\n",
       "      <td>...</td>\n",
       "      <td>...</td>\n",
       "      <td>...</td>\n",
       "      <td>...</td>\n",
       "      <td>...</td>\n",
       "      <td>...</td>\n",
       "      <td>...</td>\n",
       "      <td>...</td>\n",
       "      <td>...</td>\n",
       "      <td>...</td>\n",
       "      <td>...</td>\n",
       "    </tr>\n",
       "    <tr>\n",
       "      <th>223</th>\n",
       "      <td>231</td>\n",
       "      <td>0</td>\n",
       "      <td>0</td>\n",
       "      <td>0</td>\n",
       "      <td>0</td>\n",
       "      <td>1.667</td>\n",
       "      <td>38.0</td>\n",
       "      <td>1</td>\n",
       "      <td>0.333</td>\n",
       "      <td>0.417</td>\n",
       "      <td>1.333</td>\n",
       "      <td>14.000</td>\n",
       "      <td>0.067</td>\n",
       "      <td>1</td>\n",
       "      <td>1</td>\n",
       "    </tr>\n",
       "    <tr>\n",
       "      <th>224</th>\n",
       "      <td>232</td>\n",
       "      <td>0</td>\n",
       "      <td>0</td>\n",
       "      <td>0</td>\n",
       "      <td>0</td>\n",
       "      <td>1.667</td>\n",
       "      <td>40.0</td>\n",
       "      <td>1</td>\n",
       "      <td>0.167</td>\n",
       "      <td>0.500</td>\n",
       "      <td>1.333</td>\n",
       "      <td>17.500</td>\n",
       "      <td>0.000</td>\n",
       "      <td>1</td>\n",
       "      <td>1</td>\n",
       "    </tr>\n",
       "    <tr>\n",
       "      <th>225</th>\n",
       "      <td>233</td>\n",
       "      <td>0</td>\n",
       "      <td>0</td>\n",
       "      <td>1</td>\n",
       "      <td>0</td>\n",
       "      <td>1.750</td>\n",
       "      <td>27.0</td>\n",
       "      <td>0</td>\n",
       "      <td>0.083</td>\n",
       "      <td>0.250</td>\n",
       "      <td>1.500</td>\n",
       "      <td>6.250</td>\n",
       "      <td>0.333</td>\n",
       "      <td>1</td>\n",
       "      <td>1</td>\n",
       "    </tr>\n",
       "    <tr>\n",
       "      <th>226</th>\n",
       "      <td>234</td>\n",
       "      <td>0</td>\n",
       "      <td>0</td>\n",
       "      <td>0</td>\n",
       "      <td>0</td>\n",
       "      <td>1.250</td>\n",
       "      <td>44.0</td>\n",
       "      <td>1</td>\n",
       "      <td>0.167</td>\n",
       "      <td>0.333</td>\n",
       "      <td>1.250</td>\n",
       "      <td>21.667</td>\n",
       "      <td>0.017</td>\n",
       "      <td>1</td>\n",
       "      <td>1</td>\n",
       "    </tr>\n",
       "    <tr>\n",
       "      <th>227</th>\n",
       "      <td>235</td>\n",
       "      <td>0</td>\n",
       "      <td>0</td>\n",
       "      <td>1</td>\n",
       "      <td>1</td>\n",
       "      <td>1.000</td>\n",
       "      <td>30.0</td>\n",
       "      <td>2</td>\n",
       "      <td>0.167</td>\n",
       "      <td>0.083</td>\n",
       "      <td>1.500</td>\n",
       "      <td>6.250</td>\n",
       "      <td>0.017</td>\n",
       "      <td>1</td>\n",
       "      <td>1</td>\n",
       "    </tr>\n",
       "  </tbody>\n",
       "</table>\n",
       "<p>228 rows × 15 columns</p>\n",
       "</div>"
      ],
      "text/plain": [
       "      id  choice  purpose  age  gender  rail_ivtt  rail_cost  rail_transfers  \\\n",
       "0      1       0        0    0       1      2.000       40.0               0   \n",
       "1      2       0        0    0       1      1.633       35.0               0   \n",
       "2      3       0        0    0       0      1.500       24.0               0   \n",
       "3      4       0        0    1       0      1.000        7.8               1   \n",
       "4      5       0        0    0       1      1.667       28.0               1   \n",
       "..   ...     ...      ...  ...     ...        ...        ...             ...   \n",
       "223  231       0        0    0       0      1.667       38.0               1   \n",
       "224  232       0        0    0       0      1.667       40.0               1   \n",
       "225  233       0        0    1       0      1.750       27.0               0   \n",
       "226  234       0        0    0       0      1.250       44.0               1   \n",
       "227  235       0        0    1       1      1.000       30.0               2   \n",
       "\n",
       "     rail_acc_time  rail_egr_time  car_ivtt  car_cost  car_walk_time  avail0  \\\n",
       "0            0.333          0.167     1.000     5.000          0.167       1   \n",
       "1            0.133          0.250     1.500     9.000          0.017       1   \n",
       "2            0.500          0.017     1.633    11.500          0.333       1   \n",
       "3            0.500          0.250     1.500     8.333          0.500       1   \n",
       "4            0.200          0.167     1.250     5.000          0.017       1   \n",
       "..             ...            ...       ...       ...            ...     ...   \n",
       "223          0.333          0.417     1.333    14.000          0.067       1   \n",
       "224          0.167          0.500     1.333    17.500          0.000       1   \n",
       "225          0.083          0.250     1.500     6.250          0.333       1   \n",
       "226          0.167          0.333     1.250    21.667          0.017       1   \n",
       "227          0.167          0.083     1.500     6.250          0.017       1   \n",
       "\n",
       "     avail1  \n",
       "0         1  \n",
       "1         1  \n",
       "2         1  \n",
       "3         1  \n",
       "4         1  \n",
       "..      ...  \n",
       "223       1  \n",
       "224       1  \n",
       "225       1  \n",
       "226       1  \n",
       "227       1  \n",
       "\n",
       "[228 rows x 15 columns]"
      ]
     },
     "execution_count": 7,
     "metadata": {},
     "output_type": "execute_result"
    }
   ],
   "source": [
    "# Prepare the data\n",
    "\n",
    "df = pd.read_csv(data_file, sep='\\t')\n",
    "df\n"
   ]
  },
  {
   "cell_type": "code",
   "execution_count": 29,
   "metadata": {},
   "outputs": [
    {
     "data": {
      "text/plain": [
       "purpose\n",
       "0    191\n",
       "1     37\n",
       "Name: count, dtype: int64"
      ]
     },
     "execution_count": 29,
     "metadata": {},
     "output_type": "execute_result"
    }
   ],
   "source": [
    "df.value_counts('purpose')"
   ]
  },
  {
   "cell_type": "code",
   "execution_count": 30,
   "metadata": {},
   "outputs": [
    {
     "name": "stderr",
     "output_type": "stream",
     "text": [
      "/tmp/ipykernel_2012/3175367701.py:3: UserWarning: set_ticklabels() should only be used with a fixed number of ticks, i.e. after set_ticks() or using a FixedLocator.\n",
      "  chart.set_xticklabels(chart.get_xticklabels(), rotation=30, horizontalalignment='left');\n",
      "/tmp/ipykernel_2012/3175367701.py:4: UserWarning: set_ticklabels() should only be used with a fixed number of ticks, i.e. after set_ticks() or using a FixedLocator.\n",
      "  chart.set_xticklabels(['Otherwise', 'Work'])\n"
     ]
    },
    {
     "data": {
      "text/plain": [
       "[Text(0, 0, 'Otherwise'), Text(1, 0, 'Work')]"
      ]
     },
     "execution_count": 30,
     "metadata": {},
     "output_type": "execute_result"
    },
    {
     "data": {
      "image/png": "[encoded data removed]",
      "text/plain": [
       "<Figure size 1000x500 with 1 Axes>"
      ]
     },
     "metadata": {},
     "output_type": "display_data"
    }
   ],
   "source": [
    "plt.figure(figsize=(10,5))\n",
    "chart = sns.countplot(x='purpose', data=df)\n",
    "chart.set_xticklabels(chart.get_xticklabels(), rotation=30, horizontalalignment='left');\n",
    "chart.set_xticklabels(['Otherwise', 'Work'])"
   ]
  },
  {
   "cell_type": "code",
   "execution_count": 25,
   "metadata": {},
   "outputs": [
    {
     "name": "stderr",
     "output_type": "stream",
     "text": [
      "/tmp/ipykernel_2012/1782969199.py:3: UserWarning: set_ticklabels() should only be used with a fixed number of ticks, i.e. after set_ticks() or using a FixedLocator.\n",
      "  chart.set_xticklabels(chart.get_xticklabels(), rotation=30, horizontalalignment='left');\n",
      "/tmp/ipykernel_2012/1782969199.py:4: UserWarning: set_ticklabels() should only be used with a fixed number of ticks, i.e. after set_ticks() or using a FixedLocator.\n",
      "  chart.set_xticklabels(['Commuter', 'Shopping', 'Business', 'Leisure', 'Return from work','Return from shopping', 'Return from business','Return from leisure','Other'])\n"
     ]
    },
    {
     "data": {
      "text/plain": [
       "[Text(0, 0, 'Commuter'),\n",
       " Text(1, 0, 'Shopping'),\n",
       " Text(2, 0, 'Business'),\n",
       " Text(3, 0, 'Leisure'),\n",
       " Text(4, 0, 'Return from work'),\n",
       " Text(5, 0, 'Return from shopping'),\n",
       " Text(6, 0, 'Return from business'),\n",
       " Text(7, 0, 'Return from leisure'),\n",
       " Text(8, 0, 'Other')]"
      ]
     },
     "execution_count": 25,
     "metadata": {},
     "output_type": "execute_result"
    },
    {
     "data": {
      "image/png": "[encoded data removed]",
      "text/plain": [
       "<Figure size 1000x500 with 1 Axes>"
      ]
     },
     "metadata": {},
     "output_type": "display_data"
    }
   ],
   "source": [
    "plt.figure(figsize=(10,5))\n",
    "chart = sns.countplot(x='PURPOSE', data=df2)\n",
    "chart.set_xticklabels(chart.get_xticklabels(), rotation=30, horizontalalignment='left');\n",
    "chart.set_xticklabels(['Commuter', 'Shopping', 'Business', 'Leisure', 'Return from work','Return from shopping', 'Return from business','Return from leisure','Other'])"
   ]
  },
  {
   "cell_type": "markdown",
   "metadata": {},
   "source": [
    "## This is making each of these data columns into a gloabal variable so you can reffer to them directly through thier column header.\n"
   ]
  },
  {
   "cell_type": "code",
   "execution_count": 31,
   "metadata": {
    "id": "49jL1uShQjMO"
   },
   "outputs": [],
   "source": [
    "database = db.Database('netherlands_BL.dat', df)\n",
    "globals().update(database.variables)\n"
   ]
  },
  {
   "cell_type": "markdown",
   "metadata": {},
   "source": [
    "## There are some missing observations and things that biogme doesn't like so its saying that if the choice is equal to 0, so if they have chosen an alternative that is wqual to zero, than we are going to exlude those. "
   ]
  },
  {
   "cell_type": "code",
   "execution_count": 33,
   "metadata": {
    "id": "DbAGUItIXTer"
   },
   "outputs": [],
   "source": [
    "#Exclude some observations\n",
    "exclude = ((purpose != 1) *\n",
    "           (purpose != 3) +\n",
    "           (choice == 0)) >0\n",
    "database.remove(exclude)"
   ]
  },
  {
   "cell_type": "markdown",
   "metadata": {},
   "source": [
    "## This is for specification. If you remiber from the first lecture we talkied aobut how a part of our taks is to measure utility that is accosicated with a choice outcome. In this case we are declarig what variables we want to include. ASc sands fo alternate. The metro data we are working with is a data set where respondents are sating their prefereince to these constants: car, train, Swiss Metro. "
   ]
  },
  {
   "cell_type": "code",
   "execution_count": 11,
   "metadata": {
    "id": "O467HzzNSI8k"
   },
   "outputs": [],
   "source": [
    "# Model Specification\n",
    "\n",
    "# Parameters to be estimated\n",
    "# Arguments:\n",
    "#   - 1  Name for report; Typically, the same as the variable.\n",
    "#   - 2  Starting value.\n",
    "#   - 3  Lower bound.\n",
    "#   - 4  Upper bound.\n",
    "#   - 5  0: estimate the parameter, 1: keep it fixed.\n",
    "\n",
    "ASC_CAR = exp.Beta('ASC_CAR',0,None,None,0)\n",
    "ASC_TRAIN = exp.Beta('ASC_TRAIN',0,None,None,0)\n",
    "ASC_SM = exp.Beta('ASC_SM',0,None,None,0)\n",
    "B_TIME = exp.Beta('B_TIME',0,None,None,0)\n",
    "B_COST = exp.Beta('B_COST',0,None,None,0)\n"
   ]
  },
  {
   "cell_type": "markdown",
   "metadata": {},
   "source": [
    "You can find define new vairable by refining"
   ]
  },
  {
   "cell_type": "code",
   "execution_count": 12,
   "metadata": {
    "id": "ZcwakhbuTh11"
   },
   "outputs": [],
   "source": [
    "#Define new variables\n",
    "SM_COST =  SM_CO*(GA == 0)\n",
    "TRAIN_COST = TRAIN_CO*(GA == 0)\n",
    "\n",
    "CAR_AV_SP = CAR_AV * (SP != 0)\n",
    "TRAIN_AV_SP = TRAIN_AV * (SP != 0)\n",
    "\n",
    "TRAIN_TT_SCALED = TRAIN_TT / 100.0\n",
    "TRAIN_COST_SCALED = TRAIN_COST / 100\n",
    "SM_TT_SCALED = SM_TT / 100.0\n",
    "SM_COST_SCALED = SM_COST / 100\n",
    "CAR_TT_SCALED = CAR_TT / 100\n",
    "CAR_CO_SCALED = CAR_CO / 100"
   ]
  },
  {
   "cell_type": "code",
   "execution_count": 13,
   "metadata": {},
   "outputs": [
    {
     "name": "stderr",
     "output_type": "stream",
     "text": [
      "/tmp/ipykernel_1236/3279920306.py:3: UserWarning: set_ticklabels() should only be used with a fixed number of ticks, i.e. after set_ticks() or using a FixedLocator.\n",
      "  chart.set_xticklabels(chart.get_xticklabels(), rotation=30, horizontalalignment='right');\n",
      "/tmp/ipykernel_1236/3279920306.py:4: UserWarning: set_ticklabels() should only be used with a fixed number of ticks, i.e. after set_ticks() or using a FixedLocator.\n",
      "  chart.set_xticklabels(['Commuter', 'Business']);\n"
     ]
    },
    {
     "data": {
      "image/png": "[encoded data removed]",
      "text/plain": [
       "<Figure size 1000x500 with 1 Axes>"
      ]
     },
     "metadata": {},
     "output_type": "display_data"
    }
   ],
   "source": [
    "plt.figure(figsize=(10,5))\n",
    "chart = sns.countplot(x='PURPOSE', data=df)\n",
    "chart.set_xticklabels(chart.get_xticklabels(), rotation=30, horizontalalignment='right');\n",
    "chart.set_xticklabels(['Commuter', 'Business']);"
   ]
  },
  {
   "cell_type": "markdown",
   "metadata": {},
   "source": [
    "V sub transit it equal to a contant plus a vairable time plus train travel time, pluse cost etc. "
   ]
  },
  {
   "cell_type": "code",
   "execution_count": null,
   "metadata": {},
   "outputs": [],
   "source": [
    "axes.xaxis.set_ticks(values_list)"
   ]
  },
  {
   "cell_type": "code",
   "execution_count": 15,
   "metadata": {},
   "outputs": [
    {
     "name": "stderr",
     "output_type": "stream",
     "text": [
      "/tmp/ipykernel_1236/1497331618.py:3: UserWarning: set_ticklabels() should only be used with a fixed number of ticks, i.e. after set_ticks() or using a FixedLocator.\n",
      "  chart.set_xticklabels(chart.get_xticklabels(), rotation=30, horizontalalignment='right');\n",
      "/tmp/ipykernel_1236/1497331618.py:4: UserWarning: set_ticklabels() should only be used with a fixed number of ticks, i.e. after set_ticks() or using a FixedLocator.\n",
      "  chart.set_xticklabels(['Yes']);\n",
      "/tmp/ipykernel_1236/1497331618.py:9: UserWarning: set_ticklabels() should only be used with a fixed number of ticks, i.e. after set_ticks() or using a FixedLocator.\n",
      "  chart.set_xticklabels(chart.get_xticklabels(), rotation=30, horizontalalignment='right');\n",
      "/tmp/ipykernel_1236/1497331618.py:10: UserWarning: set_ticklabels() should only be used with a fixed number of ticks, i.e. after set_ticks() or using a FixedLocator.\n",
      "  chart.set_xticklabels(['No', 'Yes']);\n",
      "/tmp/ipykernel_1236/1497331618.py:15: UserWarning: set_ticklabels() should only be used with a fixed number of ticks, i.e. after set_ticks() or using a FixedLocator.\n",
      "  chart.set_xticklabels(chart.get_xticklabels(), rotation=30, horizontalalignment='right');\n",
      "/tmp/ipykernel_1236/1497331618.py:16: UserWarning: set_ticklabels() should only be used with a fixed number of ticks, i.e. after set_ticks() or using a FixedLocator.\n",
      "  chart.set_xticklabels(['Yes']);\n"
     ]
    },
    {
     "data": {
      "image/png": "[encoded data removed]",
      "text/plain": [
       "<Figure size 1000x500 with 1 Axes>"
      ]
     },
     "metadata": {},
     "output_type": "display_data"
    },
    {
     "data": {
      "image/png": "[encoded data removed]",
      "text/plain": [
       "<Figure size 1000x500 with 1 Axes>"
      ]
     },
     "metadata": {},
     "output_type": "display_data"
    },
    {
     "data": {
      "image/png": "[encoded data removed]",
      "text/plain": [
       "<Figure size 1000x500 with 1 Axes>"
      ]
     },
     "metadata": {},
     "output_type": "display_data"
    }
   ],
   "source": [
    "plt.figure(1, figsize=(10,5))\n",
    "chart = sns.countplot(x = 'TRAIN_AV', data = df)\n",
    "chart.set_xticklabels(chart.get_xticklabels(), rotation=30, horizontalalignment='right');\n",
    "chart.set_xticklabels(['Yes']);\n",
    "chart.set(title='Train Availability', xlabel=\"Available\", ylabel = \"Count\");\n",
    "\n",
    "plt.figure(2, figsize=(10,5))\n",
    "chart = sns.countplot(x = 'CAR_AV', data = df)\n",
    "chart.set_xticklabels(chart.get_xticklabels(), rotation=30, horizontalalignment='right');\n",
    "chart.set_xticklabels(['No', 'Yes']);\n",
    "chart.set(title='Car Availability', xlabel=\"Available\", ylabel = \"Count\");\n",
    "\n",
    "plt.figure(3, figsize=(10,5))\n",
    "chart = sns.countplot(x = 'SM_AV', data = df)\n",
    "chart.set_xticklabels(chart.get_xticklabels(), rotation=30, horizontalalignment='right');\n",
    "chart.set_xticklabels(['Yes']);\n",
    "chart.set(title='Swissmetro Availability', xlabel=\"Available\", ylabel = \"Count\");"
   ]
  },
  {
   "cell_type": "code",
   "execution_count": 23,
   "metadata": {
    "id": "L09ywkVnTwvi"
   },
   "outputs": [],
   "source": [
    "# Specification of utilities\n",
    "V_transit = ASC_TRAIN + \\\n",
    "    B_TIME * TRAIN_TT_SCALED + \\\n",
    "    B_COST * TRAIN_COST_SCALED\n",
    "V_swissMetro = ASC_SM + \\\n",
    "    B_TIME * SM_TT_SCALED + \\\n",
    "    B_COST * SM_COST_SCALED\n",
    "V_car = ASC_CAR + \\\n",
    "    B_TIME * CAR_TT_SCALED + \\\n",
    "    B_COST * CAR_CO_SCALED"
   ]
  },
  {
   "cell_type": "code",
   "execution_count": 24,
   "metadata": {
    "id": "oVt4xsIpVS5c"
   },
   "outputs": [],
   "source": [
    "# Associate utility functions with the numbering of alternatives\n",
    "V = {1: V_transit,\n",
    "     2: V_swissMetro,\n",
    "     3: V_car}"
   ]
  },
  {
   "cell_type": "markdown",
   "metadata": {},
   "source": [
    "It's imortant to indicate whehter the person has access to the alternatives. Availabity constant for someone who doesn't have a car would be zero"
   ]
  },
  {
   "cell_type": "code",
   "execution_count": 25,
   "metadata": {
    "id": "8uNyi0sLTtej"
   },
   "outputs": [],
   "source": [
    "# Associate the availability conditions with the alternatives\n",
    "av = {1: TRAIN_AV_SP,\n",
    "      2: SM_AV,\n",
    "      3: CAR_AV_SP}"
   ]
  },
  {
   "cell_type": "markdown",
   "metadata": {},
   "source": [
    "The next three are basically assoicating the function for putting all fo these together"
   ]
  },
  {
   "cell_type": "code",
   "execution_count": 26,
   "metadata": {
    "id": "_7N6mboOVpmn"
   },
   "outputs": [],
   "source": [
    "# The choice model is a logit, with availability conditions\n",
    "logprob = models.loglogit(V,av,CHOICE)"
   ]
  },
  {
   "cell_type": "code",
   "execution_count": 27,
   "metadata": {
    "id": "STleJUdOWC2Q"
   },
   "outputs": [
    {
     "name": "stderr",
     "output_type": "stream",
     "text": [
      "File biogeme.toml has been created\n"
     ]
    }
   ],
   "source": [
    "# Initialize Biogeme\n",
    "biogeme = bio.BIOGEME(database,logprob)\n",
    "biogeme.modelName = \"01logit\""
   ]
  },
  {
   "cell_type": "code",
   "execution_count": 28,
   "metadata": {
    "colab": {
     "base_uri": "https://localhost:8080/"
    },
    "id": "6Kkyo-nAWsKN",
    "outputId": "af7e1bd2-252b-4091-ca83-584eed92685f"
   },
   "outputs": [],
   "source": [
    "#Run Biogeme to estimate model and store results\n",
    "results = biogeme.estimate()"
   ]
  },
  {
   "cell_type": "code",
   "execution_count": 29,
   "metadata": {
    "colab": {
     "base_uri": "https://localhost:8080/",
     "height": 206
    },
    "id": "k-FcBDxPYB_u",
    "outputId": "42aada9f-61b6-4525-a26e-221d58577f1b"
   },
   "outputs": [
    {
     "name": "stderr",
     "output_type": "stream",
     "text": [
      "/tmp/ipykernel_1646/4126013261.py:1: DeprecationWarning: getEstimatedParameters is deprecated; use get_estimated_parameters instead.\n",
      "  pandasResults = results.getEstimatedParameters()\n"
     ]
    },
    {
     "data": {
      "text/html": [
       "<div>\n",
       "<style scoped>\n",
       "    .dataframe tbody tr th:only-of-type {\n",
       "        vertical-align: middle;\n",
       "    }\n",
       "\n",
       "    .dataframe tbody tr th {\n",
       "        vertical-align: top;\n",
       "    }\n",
       "\n",
       "    .dataframe thead th {\n",
       "        text-align: right;\n",
       "    }\n",
       "</style>\n",
       "<table border=\"1\" class=\"dataframe\">\n",
       "  <thead>\n",
       "    <tr style=\"text-align: right;\">\n",
       "      <th></th>\n",
       "      <th>Value</th>\n",
       "      <th>Rob. Std err</th>\n",
       "      <th>Rob. t-test</th>\n",
       "      <th>Rob. p-value</th>\n",
       "    </tr>\n",
       "  </thead>\n",
       "  <tbody>\n",
       "    <tr>\n",
       "      <th>ASC_CAR</th>\n",
       "      <td>0.130641</td>\n",
       "      <td>0.022957</td>\n",
       "      <td>5.690716</td>\n",
       "      <td>1.265081e-08</td>\n",
       "    </tr>\n",
       "    <tr>\n",
       "      <th>ASC_SM</th>\n",
       "      <td>0.285273</td>\n",
       "      <td>0.044724</td>\n",
       "      <td>6.378532</td>\n",
       "      <td>1.787939e-10</td>\n",
       "    </tr>\n",
       "    <tr>\n",
       "      <th>ASC_TRAIN</th>\n",
       "      <td>-0.415914</td>\n",
       "      <td>0.040884</td>\n",
       "      <td>-10.172982</td>\n",
       "      <td>0.000000e+00</td>\n",
       "    </tr>\n",
       "    <tr>\n",
       "      <th>B_COST</th>\n",
       "      <td>-1.083790</td>\n",
       "      <td>0.068225</td>\n",
       "      <td>-15.885521</td>\n",
       "      <td>0.000000e+00</td>\n",
       "    </tr>\n",
       "    <tr>\n",
       "      <th>B_TIME</th>\n",
       "      <td>-1.277859</td>\n",
       "      <td>0.104254</td>\n",
       "      <td>-12.257120</td>\n",
       "      <td>0.000000e+00</td>\n",
       "    </tr>\n",
       "  </tbody>\n",
       "</table>\n",
       "</div>"
      ],
      "text/plain": [
       "              Value  Rob. Std err  Rob. t-test  Rob. p-value\n",
       "ASC_CAR    0.130641      0.022957     5.690716  1.265081e-08\n",
       "ASC_SM     0.285273      0.044724     6.378532  1.787939e-10\n",
       "ASC_TRAIN -0.415914      0.040884   -10.172982  0.000000e+00\n",
       "B_COST    -1.083790      0.068225   -15.885521  0.000000e+00\n",
       "B_TIME    -1.277859      0.104254   -12.257120  0.000000e+00"
      ]
     },
     "execution_count": 29,
     "metadata": {},
     "output_type": "execute_result"
    }
   ],
   "source": [
    "pandasResults = results.getEstimatedParameters()\n",
    "pandasResults"
   ]
  },
  {
   "cell_type": "code",
   "execution_count": 30,
   "metadata": {
    "colab": {
     "base_uri": "https://localhost:8080/"
    },
    "id": "tlOoQ5JrYSR_",
    "outputId": "dfbf3c22-4f87-4c19-cd40-e3c46c4a0b86"
   },
   "outputs": [
    {
     "name": "stdout",
     "output_type": "stream",
     "text": [
      "\n",
      "Results for model 01logit\n",
      "Output file (HTML):\t\t\t01logit.html\n",
      "Nbr of parameters:\t\t5\n",
      "Sample size:\t\t\t6768\n",
      "Excluded data:\t\t\t3960\n",
      "Init log likelihood:\t\t-6964.663\n",
      "Final log likelihood:\t\t-5331.252\n",
      "Likelihood ratio test (init):\t\t3266.822\n",
      "Rho square (init):\t\t\t0.235\n",
      "Rho bar square (init):\t\t\t0.234\n",
      "Akaike Information Criterion:\t10672.5\n",
      "Bayesian Information Criterion:\t10706.6\n",
      "Final gradient norm:\t\t0.0007117737\n",
      "ASC_CAR        : 0.131[0.0235 5.55 2.8e-08][0.023 5.69 1.27e-08]\n",
      "ASC_SM         : 0.285[0.0291 9.79 0][0.0447 6.38 1.79e-10]\n",
      "ASC_TRAIN      : -0.416[0.0306 -13.6 0][0.0409 -10.2 0]\n",
      "B_COST         : -1.08[0.0518 -20.9 0][0.0682 -15.9 0]\n",
      "B_TIME         : -1.28[0.0569 -22.5 0][0.104 -12.3 0]\n",
      "('ASC_SM', 'ASC_CAR'):\t-0.000234\t-0.341\t3.58\t0.000348\t-0.000428\t-0.417\t2.66\t0.00785\n",
      "('ASC_TRAIN', 'ASC_CAR'):\t-0.00032\t-0.445\t-11.9\t0\t-9.91e-05\t-0.106\t-11.2\t0\n",
      "('ASC_TRAIN', 'ASC_SM'):\t-0.000614\t-0.69\t-12.8\t0\t-0.00157\t-0.86\t-8.49\t0\n",
      "('B_COST', 'ASC_CAR'):\t0.00032\t0.263\t-23.8\t0\t0.000296\t0.189\t-17.9\t0\n",
      "('B_COST', 'ASC_SM'):\t-0.000164\t-0.109\t-22\t0\t0.000267\t0.0876\t-17.5\t0\n",
      "('B_COST', 'ASC_TRAIN'):\t-0.000156\t-0.0986\t-10.7\t0\t-0.000563\t-0.202\t-7.74\t1.02e-14\n",
      "('B_TIME', 'ASC_CAR'):\t-0.000207\t-0.155\t-21.7\t0\t-0.000682\t-0.285\t-12.5\t0\n",
      "('B_TIME', 'ASC_SM'):\t0.00123\t0.743\t-38.8\t0\t0.00414\t0.888\t-23.1\t0\n",
      "('B_TIME', 'ASC_TRAIN'):\t-0.00102\t-0.589\t-10.9\t0\t-0.00346\t-0.812\t-6.18\t6.46e-10\n",
      "('B_TIME', 'B_COST'):\t0.00055\t0.187\t-2.79\t0.0052\t0.0022\t0.309\t-1.84\t0.0658\n",
      "\n"
     ]
    }
   ],
   "source": [
    "print(results)\n"
   ]
  },
  {
   "cell_type": "code",
   "execution_count": null,
   "metadata": {},
   "outputs": [],
   "source": []
  }
 ],
 "metadata": {
  "colab": {
   "provenance": []
  },
  "kernelspec": {
   "display_name": "Python 3 (ipykernel)",
   "language": "python",
   "name": "python3"
  },
  "language_info": {
   "codemirror_mode": {
    "name": "ipython",
    "version": 3
   },
   "file_extension": ".py",
   "mimetype": "text/x-python",
   "name": "python",
   "nbconvert_exporter": "python",
   "pygments_lexer": "ipython3",
   "version": "3.11.9"
  }
 },
 "nbformat": 4,
 "nbformat_minor": 4
}

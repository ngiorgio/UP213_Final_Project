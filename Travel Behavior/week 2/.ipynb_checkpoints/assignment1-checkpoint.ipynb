{
 "cells": [
  {
   "cell_type": "markdown",
   "metadata": {
    "id": "sXbmBwCpA8hO"
   },
   "source": [
    "The following lines of code can be used to import Python Biogeme and estimate a simple model, using the sample Swiss Metro Dataset"
   ]
  },
  {
   "cell_type": "code",
   "execution_count": 1,
   "metadata": {
    "id": "Y7TecqMj9VE3"
   },
   "outputs": [
    {
     "name": "stderr",
     "output_type": "stream",
     "text": [
      "/Users/tierrabills/opt/anaconda3/lib/python3.9/site-packages/scipy/__init__.py:146: UserWarning: A NumPy version >=1.16.5 and <1.23.0 is required for this version of SciPy (detected version 1.23.4\n",
      "  warnings.warn(f\"A NumPy version >={np_minversion} and <{np_maxversion}\"\n"
     ]
    }
   ],
   "source": [
    "import biogeme.database as db\n",
    "import biogeme.biogeme as bio\n",
    "import biogeme.models as models\n",
    "from biogeme.expressions import Beta\n",
    "import pandas as pd\n"
   ]
  },
  {
   "cell_type": "code",
   "execution_count": 2,
   "metadata": {
    "id": "Dyr2lv5W9uKB"
   },
   "outputs": [],
   "source": [
    "data_file = \"swissmetro_Lab1.dat\""
   ]
  },
  {
   "cell_type": "code",
   "execution_count": 5,
   "metadata": {
    "colab": {
     "base_uri": "https://localhost:8080/",
     "height": 478
    },
    "id": "9jNd_g2xOGp4",
    "outputId": "7ffbd399-8a12-4fb2-b32c-eb05150b6390"
   },
   "outputs": [
    {
     "name": "stderr",
     "output_type": "stream",
     "text": [
      "/Users/tierrabills/opt/anaconda3/lib/python3.9/site-packages/IPython/core/interactiveshell.py:3444: FutureWarning: In a future version of pandas all arguments of read_csv except for the argument 'filepath_or_buffer' will be keyword-only\n",
      "  exec(code_obj, self.user_global_ns, self.user_ns)\n"
     ]
    },
    {
     "data": {
      "text/html": [
       "<div>\n",
       "<style scoped>\n",
       "    .dataframe tbody tr th:only-of-type {\n",
       "        vertical-align: middle;\n",
       "    }\n",
       "\n",
       "    .dataframe tbody tr th {\n",
       "        vertical-align: top;\n",
       "    }\n",
       "\n",
       "    .dataframe thead th {\n",
       "        text-align: right;\n",
       "    }\n",
       "</style>\n",
       "<table border=\"1\" class=\"dataframe\">\n",
       "  <thead>\n",
       "    <tr style=\"text-align: right;\">\n",
       "      <th></th>\n",
       "      <th>GROUP</th>\n",
       "      <th>SURVEY</th>\n",
       "      <th>SP</th>\n",
       "      <th>ID</th>\n",
       "      <th>PURPOSE</th>\n",
       "      <th>FIRST</th>\n",
       "      <th>TICKET</th>\n",
       "      <th>WHO</th>\n",
       "      <th>LUGGAGE</th>\n",
       "      <th>AGE</th>\n",
       "      <th>...</th>\n",
       "      <th>TRAIN_TT</th>\n",
       "      <th>TRAIN_CO</th>\n",
       "      <th>TRAIN_FR</th>\n",
       "      <th>SM_TT</th>\n",
       "      <th>SM_CO</th>\n",
       "      <th>SM_FR</th>\n",
       "      <th>SM_SEATS</th>\n",
       "      <th>CAR_TT</th>\n",
       "      <th>CAR_CO</th>\n",
       "      <th>CHOICE</th>\n",
       "    </tr>\n",
       "  </thead>\n",
       "  <tbody>\n",
       "    <tr>\n",
       "      <th>0</th>\n",
       "      <td>2</td>\n",
       "      <td>0</td>\n",
       "      <td>1</td>\n",
       "      <td>1</td>\n",
       "      <td>1</td>\n",
       "      <td>0</td>\n",
       "      <td>1</td>\n",
       "      <td>1</td>\n",
       "      <td>0</td>\n",
       "      <td>3</td>\n",
       "      <td>...</td>\n",
       "      <td>112</td>\n",
       "      <td>48</td>\n",
       "      <td>120</td>\n",
       "      <td>63</td>\n",
       "      <td>52</td>\n",
       "      <td>20</td>\n",
       "      <td>0</td>\n",
       "      <td>117</td>\n",
       "      <td>65</td>\n",
       "      <td>2</td>\n",
       "    </tr>\n",
       "    <tr>\n",
       "      <th>1</th>\n",
       "      <td>2</td>\n",
       "      <td>0</td>\n",
       "      <td>1</td>\n",
       "      <td>1</td>\n",
       "      <td>1</td>\n",
       "      <td>0</td>\n",
       "      <td>1</td>\n",
       "      <td>1</td>\n",
       "      <td>0</td>\n",
       "      <td>3</td>\n",
       "      <td>...</td>\n",
       "      <td>103</td>\n",
       "      <td>48</td>\n",
       "      <td>30</td>\n",
       "      <td>60</td>\n",
       "      <td>49</td>\n",
       "      <td>10</td>\n",
       "      <td>0</td>\n",
       "      <td>117</td>\n",
       "      <td>84</td>\n",
       "      <td>2</td>\n",
       "    </tr>\n",
       "    <tr>\n",
       "      <th>2</th>\n",
       "      <td>2</td>\n",
       "      <td>0</td>\n",
       "      <td>1</td>\n",
       "      <td>1</td>\n",
       "      <td>1</td>\n",
       "      <td>0</td>\n",
       "      <td>1</td>\n",
       "      <td>1</td>\n",
       "      <td>0</td>\n",
       "      <td>3</td>\n",
       "      <td>...</td>\n",
       "      <td>130</td>\n",
       "      <td>48</td>\n",
       "      <td>60</td>\n",
       "      <td>67</td>\n",
       "      <td>58</td>\n",
       "      <td>30</td>\n",
       "      <td>0</td>\n",
       "      <td>117</td>\n",
       "      <td>52</td>\n",
       "      <td>2</td>\n",
       "    </tr>\n",
       "    <tr>\n",
       "      <th>3</th>\n",
       "      <td>2</td>\n",
       "      <td>0</td>\n",
       "      <td>1</td>\n",
       "      <td>1</td>\n",
       "      <td>1</td>\n",
       "      <td>0</td>\n",
       "      <td>1</td>\n",
       "      <td>1</td>\n",
       "      <td>0</td>\n",
       "      <td>3</td>\n",
       "      <td>...</td>\n",
       "      <td>103</td>\n",
       "      <td>40</td>\n",
       "      <td>30</td>\n",
       "      <td>63</td>\n",
       "      <td>52</td>\n",
       "      <td>20</td>\n",
       "      <td>0</td>\n",
       "      <td>72</td>\n",
       "      <td>52</td>\n",
       "      <td>2</td>\n",
       "    </tr>\n",
       "    <tr>\n",
       "      <th>4</th>\n",
       "      <td>2</td>\n",
       "      <td>0</td>\n",
       "      <td>1</td>\n",
       "      <td>1</td>\n",
       "      <td>1</td>\n",
       "      <td>0</td>\n",
       "      <td>1</td>\n",
       "      <td>1</td>\n",
       "      <td>0</td>\n",
       "      <td>3</td>\n",
       "      <td>...</td>\n",
       "      <td>130</td>\n",
       "      <td>36</td>\n",
       "      <td>60</td>\n",
       "      <td>63</td>\n",
       "      <td>42</td>\n",
       "      <td>20</td>\n",
       "      <td>0</td>\n",
       "      <td>90</td>\n",
       "      <td>84</td>\n",
       "      <td>2</td>\n",
       "    </tr>\n",
       "    <tr>\n",
       "      <th>...</th>\n",
       "      <td>...</td>\n",
       "      <td>...</td>\n",
       "      <td>...</td>\n",
       "      <td>...</td>\n",
       "      <td>...</td>\n",
       "      <td>...</td>\n",
       "      <td>...</td>\n",
       "      <td>...</td>\n",
       "      <td>...</td>\n",
       "      <td>...</td>\n",
       "      <td>...</td>\n",
       "      <td>...</td>\n",
       "      <td>...</td>\n",
       "      <td>...</td>\n",
       "      <td>...</td>\n",
       "      <td>...</td>\n",
       "      <td>...</td>\n",
       "      <td>...</td>\n",
       "      <td>...</td>\n",
       "      <td>...</td>\n",
       "      <td>...</td>\n",
       "    </tr>\n",
       "    <tr>\n",
       "      <th>10723</th>\n",
       "      <td>3</td>\n",
       "      <td>1</td>\n",
       "      <td>1</td>\n",
       "      <td>1192</td>\n",
       "      <td>4</td>\n",
       "      <td>1</td>\n",
       "      <td>7</td>\n",
       "      <td>1</td>\n",
       "      <td>0</td>\n",
       "      <td>5</td>\n",
       "      <td>...</td>\n",
       "      <td>148</td>\n",
       "      <td>13</td>\n",
       "      <td>30</td>\n",
       "      <td>93</td>\n",
       "      <td>17</td>\n",
       "      <td>30</td>\n",
       "      <td>0</td>\n",
       "      <td>156</td>\n",
       "      <td>56</td>\n",
       "      <td>2</td>\n",
       "    </tr>\n",
       "    <tr>\n",
       "      <th>10724</th>\n",
       "      <td>3</td>\n",
       "      <td>1</td>\n",
       "      <td>1</td>\n",
       "      <td>1192</td>\n",
       "      <td>4</td>\n",
       "      <td>1</td>\n",
       "      <td>7</td>\n",
       "      <td>1</td>\n",
       "      <td>0</td>\n",
       "      <td>5</td>\n",
       "      <td>...</td>\n",
       "      <td>148</td>\n",
       "      <td>12</td>\n",
       "      <td>30</td>\n",
       "      <td>96</td>\n",
       "      <td>16</td>\n",
       "      <td>10</td>\n",
       "      <td>0</td>\n",
       "      <td>96</td>\n",
       "      <td>70</td>\n",
       "      <td>3</td>\n",
       "    </tr>\n",
       "    <tr>\n",
       "      <th>10725</th>\n",
       "      <td>3</td>\n",
       "      <td>1</td>\n",
       "      <td>1</td>\n",
       "      <td>1192</td>\n",
       "      <td>4</td>\n",
       "      <td>1</td>\n",
       "      <td>7</td>\n",
       "      <td>1</td>\n",
       "      <td>0</td>\n",
       "      <td>5</td>\n",
       "      <td>...</td>\n",
       "      <td>148</td>\n",
       "      <td>16</td>\n",
       "      <td>60</td>\n",
       "      <td>93</td>\n",
       "      <td>16</td>\n",
       "      <td>20</td>\n",
       "      <td>0</td>\n",
       "      <td>96</td>\n",
       "      <td>56</td>\n",
       "      <td>3</td>\n",
       "    </tr>\n",
       "    <tr>\n",
       "      <th>10726</th>\n",
       "      <td>3</td>\n",
       "      <td>1</td>\n",
       "      <td>1</td>\n",
       "      <td>1192</td>\n",
       "      <td>4</td>\n",
       "      <td>1</td>\n",
       "      <td>7</td>\n",
       "      <td>1</td>\n",
       "      <td>0</td>\n",
       "      <td>5</td>\n",
       "      <td>...</td>\n",
       "      <td>178</td>\n",
       "      <td>16</td>\n",
       "      <td>30</td>\n",
       "      <td>96</td>\n",
       "      <td>17</td>\n",
       "      <td>30</td>\n",
       "      <td>0</td>\n",
       "      <td>96</td>\n",
       "      <td>91</td>\n",
       "      <td>2</td>\n",
       "    </tr>\n",
       "    <tr>\n",
       "      <th>10727</th>\n",
       "      <td>3</td>\n",
       "      <td>1</td>\n",
       "      <td>1</td>\n",
       "      <td>1192</td>\n",
       "      <td>4</td>\n",
       "      <td>1</td>\n",
       "      <td>7</td>\n",
       "      <td>1</td>\n",
       "      <td>0</td>\n",
       "      <td>5</td>\n",
       "      <td>...</td>\n",
       "      <td>148</td>\n",
       "      <td>13</td>\n",
       "      <td>60</td>\n",
       "      <td>96</td>\n",
       "      <td>21</td>\n",
       "      <td>30</td>\n",
       "      <td>0</td>\n",
       "      <td>120</td>\n",
       "      <td>70</td>\n",
       "      <td>3</td>\n",
       "    </tr>\n",
       "  </tbody>\n",
       "</table>\n",
       "<p>10728 rows × 28 columns</p>\n",
       "</div>"
      ],
      "text/plain": [
       "       GROUP  SURVEY  SP    ID  PURPOSE  FIRST  TICKET  WHO  LUGGAGE  AGE  \\\n",
       "0          2       0   1     1        1      0       1    1        0    3   \n",
       "1          2       0   1     1        1      0       1    1        0    3   \n",
       "2          2       0   1     1        1      0       1    1        0    3   \n",
       "3          2       0   1     1        1      0       1    1        0    3   \n",
       "4          2       0   1     1        1      0       1    1        0    3   \n",
       "...      ...     ...  ..   ...      ...    ...     ...  ...      ...  ...   \n",
       "10723      3       1   1  1192        4      1       7    1        0    5   \n",
       "10724      3       1   1  1192        4      1       7    1        0    5   \n",
       "10725      3       1   1  1192        4      1       7    1        0    5   \n",
       "10726      3       1   1  1192        4      1       7    1        0    5   \n",
       "10727      3       1   1  1192        4      1       7    1        0    5   \n",
       "\n",
       "       ...  TRAIN_TT  TRAIN_CO  TRAIN_FR  SM_TT  SM_CO  SM_FR  SM_SEATS  \\\n",
       "0      ...       112        48       120     63     52     20         0   \n",
       "1      ...       103        48        30     60     49     10         0   \n",
       "2      ...       130        48        60     67     58     30         0   \n",
       "3      ...       103        40        30     63     52     20         0   \n",
       "4      ...       130        36        60     63     42     20         0   \n",
       "...    ...       ...       ...       ...    ...    ...    ...       ...   \n",
       "10723  ...       148        13        30     93     17     30         0   \n",
       "10724  ...       148        12        30     96     16     10         0   \n",
       "10725  ...       148        16        60     93     16     20         0   \n",
       "10726  ...       178        16        30     96     17     30         0   \n",
       "10727  ...       148        13        60     96     21     30         0   \n",
       "\n",
       "       CAR_TT  CAR_CO  CHOICE  \n",
       "0         117      65       2  \n",
       "1         117      84       2  \n",
       "2         117      52       2  \n",
       "3          72      52       2  \n",
       "4          90      84       2  \n",
       "...       ...     ...     ...  \n",
       "10723     156      56       2  \n",
       "10724      96      70       3  \n",
       "10725      96      56       3  \n",
       "10726      96      91       2  \n",
       "10727     120      70       3  \n",
       "\n",
       "[10728 rows x 28 columns]"
      ]
     },
     "execution_count": 5,
     "metadata": {},
     "output_type": "execute_result"
    }
   ],
   "source": [
    "# Prepare the data\n",
    "\n",
    "df = pd.read_csv(data_file, '\\t')\n",
    "df\n"
   ]
  },
  {
   "cell_type": "code",
   "execution_count": 6,
   "metadata": {
    "id": "49jL1uShQjMO"
   },
   "outputs": [],
   "source": [
    "database = db.Database('SM_data', df)\n",
    "globals().update(database.variables)\n"
   ]
  },
  {
   "cell_type": "code",
   "execution_count": 17,
   "metadata": {
    "id": "DbAGUItIXTer"
   },
   "outputs": [],
   "source": [
    "#Exclude some observations\n",
    "exclude = ((PURPOSE != 1) *\n",
    "           (PURPOSE != 3) +\n",
    "           (CHOICE == 0)) >0\n",
    "database.remove(exclude)"
   ]
  },
  {
   "cell_type": "code",
   "execution_count": 7,
   "metadata": {
    "id": "O467HzzNSI8k"
   },
   "outputs": [],
   "source": [
    "# Model Specification\n",
    "\n",
    "# Parameters to be estimated\n",
    "# Arguments:\n",
    "#   - 1  Name for report; Typically, the same as the variable.\n",
    "#   - 2  Starting value.\n",
    "#   - 3  Lower bound.\n",
    "#   - 4  Upper bound.\n",
    "#   - 5  0: estimate the parameter, 1: keep it fixed.\n",
    "\n",
    "ASC_CAR = Beta('ASC_CAR',0,None,None,0)\n",
    "ASC_TRAIN = Beta('ASC_TRAIN',0,None,None,0)\n",
    "ASC_SM = Beta('ASC_SM',0,None,None,0)\n",
    "B_TIME = Beta('B_TIME',0,None,None,0)\n",
    "B_COST = Beta('B_COST',0,None,None,0)\n"
   ]
  },
  {
   "cell_type": "code",
   "execution_count": 9,
   "metadata": {
    "id": "ZcwakhbuTh11"
   },
   "outputs": [],
   "source": [
    "#Define new variables\n",
    "SM_COST =  SM_CO*(GA == 0)\n",
    "TRAIN_COST = TRAIN_CO*(GA == 0)\n",
    "\n",
    "CAR_AV_SP = CAR_AV * (SP != 0)\n",
    "TRAIN_AV_SP = TRAIN_AV * (SP != 0)\n",
    "\n",
    "TRAIN_TT_SCALED = TRAIN_TT / 100.0\n",
    "TRAIN_COST_SCALED = TRAIN_COST / 100\n",
    "SM_TT_SCALED = SM_TT / 100.0\n",
    "SM_COST_SCALED = SM_COST / 100\n",
    "CAR_TT_SCALED = CAR_TT / 100\n",
    "CAR_CO_SCALED = CAR_CO / 100"
   ]
  },
  {
   "cell_type": "code",
   "execution_count": 10,
   "metadata": {
    "id": "L09ywkVnTwvi"
   },
   "outputs": [],
   "source": [
    "# Specification of utilities\n",
    "V_transit = ASC_TRAIN + \\\n",
    "    B_TIME * TRAIN_TT_SCALED + \\\n",
    "    B_COST * TRAIN_COST_SCALED\n",
    "V_swissMetro = ASC_SM + \\\n",
    "    B_TIME * SM_TT_SCALED + \\\n",
    "    B_COST * SM_COST_SCALED\n",
    "V_car = ASC_CAR + \\\n",
    "    B_TIME * CAR_TT_SCALED + \\\n",
    "    B_COST * CAR_CO_SCALED"
   ]
  },
  {
   "cell_type": "code",
   "execution_count": 12,
   "metadata": {
    "id": "oVt4xsIpVS5c"
   },
   "outputs": [],
   "source": [
    "# Associate utility functions with the numbering of alternatives\n",
    "V = {1: V_transit,\n",
    "     2: V_swissMetro,\n",
    "     3: V_car}"
   ]
  },
  {
   "cell_type": "code",
   "execution_count": 13,
   "metadata": {
    "id": "8uNyi0sLTtej"
   },
   "outputs": [],
   "source": [
    "# Associate the availability conditions with the alternatives\n",
    "av = {1: TRAIN_AV_SP,\n",
    "      2: SM_AV,\n",
    "      3: CAR_AV_SP}"
   ]
  },
  {
   "cell_type": "code",
   "execution_count": 14,
   "metadata": {
    "id": "_7N6mboOVpmn"
   },
   "outputs": [],
   "source": [
    "# The choice model is a logit, with availability conditions\n",
    "logprob = models.loglogit(V,av,CHOICE)"
   ]
  },
  {
   "cell_type": "code",
   "execution_count": 18,
   "metadata": {
    "id": "STleJUdOWC2Q"
   },
   "outputs": [],
   "source": [
    "# Initialize Biogeme\n",
    "biogeme = bio.BIOGEME(database,logprob)\n",
    "biogeme.modelName = \"01logit\""
   ]
  },
  {
   "cell_type": "code",
   "execution_count": 19,
   "metadata": {
    "colab": {
     "base_uri": "https://localhost:8080/"
    },
    "id": "6Kkyo-nAWsKN",
    "outputId": "af7e1bd2-252b-4091-ca83-584eed92685f"
   },
   "outputs": [
    {
     "name": "stdout",
     "output_type": "stream",
     "text": [
      "[13:42:51] < Warning >   Cannot read file __01logit.iter. Statement is ignored.\n"
     ]
    }
   ],
   "source": [
    "#Run Biogeme to estimate model and store results\n",
    "results = biogeme.estimate()"
   ]
  },
  {
   "cell_type": "code",
   "execution_count": 20,
   "metadata": {
    "colab": {
     "base_uri": "https://localhost:8080/",
     "height": 206
    },
    "id": "k-FcBDxPYB_u",
    "outputId": "42aada9f-61b6-4525-a26e-221d58577f1b"
   },
   "outputs": [
    {
     "data": {
      "text/html": [
       "<div>\n",
       "<style scoped>\n",
       "    .dataframe tbody tr th:only-of-type {\n",
       "        vertical-align: middle;\n",
       "    }\n",
       "\n",
       "    .dataframe tbody tr th {\n",
       "        vertical-align: top;\n",
       "    }\n",
       "\n",
       "    .dataframe thead th {\n",
       "        text-align: right;\n",
       "    }\n",
       "</style>\n",
       "<table border=\"1\" class=\"dataframe\">\n",
       "  <thead>\n",
       "    <tr style=\"text-align: right;\">\n",
       "      <th></th>\n",
       "      <th>Value</th>\n",
       "      <th>Rob. Std err</th>\n",
       "      <th>Rob. t-test</th>\n",
       "      <th>Rob. p-value</th>\n",
       "    </tr>\n",
       "  </thead>\n",
       "  <tbody>\n",
       "    <tr>\n",
       "      <th>ASC_CAR</th>\n",
       "      <td>0.130621</td>\n",
       "      <td>0.022957</td>\n",
       "      <td>5.689785</td>\n",
       "      <td>1.271991e-08</td>\n",
       "    </tr>\n",
       "    <tr>\n",
       "      <th>ASC_SM</th>\n",
       "      <td>0.285305</td>\n",
       "      <td>0.044724</td>\n",
       "      <td>6.379258</td>\n",
       "      <td>1.779479e-10</td>\n",
       "    </tr>\n",
       "    <tr>\n",
       "      <th>ASC_TRAIN</th>\n",
       "      <td>-0.415927</td>\n",
       "      <td>0.040884</td>\n",
       "      <td>-10.173294</td>\n",
       "      <td>0.000000e+00</td>\n",
       "    </tr>\n",
       "    <tr>\n",
       "      <th>B_COST</th>\n",
       "      <td>-1.083870</td>\n",
       "      <td>0.068228</td>\n",
       "      <td>-15.886084</td>\n",
       "      <td>0.000000e+00</td>\n",
       "    </tr>\n",
       "    <tr>\n",
       "      <th>B_TIME</th>\n",
       "      <td>-1.277819</td>\n",
       "      <td>0.104254</td>\n",
       "      <td>-12.256803</td>\n",
       "      <td>0.000000e+00</td>\n",
       "    </tr>\n",
       "  </tbody>\n",
       "</table>\n",
       "</div>"
      ],
      "text/plain": [
       "              Value  Rob. Std err  Rob. t-test  Rob. p-value\n",
       "ASC_CAR    0.130621      0.022957     5.689785  1.271991e-08\n",
       "ASC_SM     0.285305      0.044724     6.379258  1.779479e-10\n",
       "ASC_TRAIN -0.415927      0.040884   -10.173294  0.000000e+00\n",
       "B_COST    -1.083870      0.068228   -15.886084  0.000000e+00\n",
       "B_TIME    -1.277819      0.104254   -12.256803  0.000000e+00"
      ]
     },
     "execution_count": 20,
     "metadata": {},
     "output_type": "execute_result"
    }
   ],
   "source": [
    "pandasResults = results.getEstimatedParameters()\n",
    "pandasResults"
   ]
  },
  {
   "cell_type": "code",
   "execution_count": null,
   "metadata": {
    "colab": {
     "base_uri": "https://localhost:8080/"
    },
    "id": "tlOoQ5JrYSR_",
    "outputId": "dfbf3c22-4f87-4c19-cd40-e3c46c4a0b86"
   },
   "outputs": [
    {
     "name": "stdout",
     "output_type": "stream",
     "text": [
      "\n",
      "Results for model 01logit\n",
      "Output file (HTML):\t\t\t01logit.html\n",
      "Nbr of parameters:\t\t5\n",
      "Sample size:\t\t\t6768\n",
      "Excluded data:\t\t\t3960\n",
      "Init log likelihood:\t\t-6964.663\n",
      "Final log likelihood:\t\t-5331.252\n",
      "Likelihood ratio test (init):\t\t3266.822\n",
      "Rho square (init):\t\t\t0.235\n",
      "Rho bar square (init):\t\t\t0.234\n",
      "Akaike Information Criterion:\t10672.5\n",
      "Bayesian Information Criterion:\t10706.6\n",
      "Final gradient norm:\t\t0.03584456\n",
      "ASC_CAR        : 0.131[0.0235 5.55 2.82e-08][0.023 5.69 1.27e-08]\n",
      "ASC_SM         : 0.285[0.0291 9.8 0][0.0447 6.38 1.78e-10]\n",
      "ASC_TRAIN      : -0.416[0.0306 -13.6 0][0.0409 -10.2 0]\n",
      "B_COST         : -1.08[0.0518 -20.9 0][0.0682 -15.9 0]\n",
      "B_TIME         : -1.28[0.0569 -22.5 0][0.104 -12.3 0]\n",
      "('ASC_SM', 'ASC_CAR'):\t-0.000234\t-0.341\t3.58\t0.000347\t-0.000428\t-0.417\t2.66\t0.00783\n",
      "('ASC_TRAIN', 'ASC_CAR'):\t-0.00032\t-0.445\t-11.9\t0\t-9.92e-05\t-0.106\t-11.2\t0\n",
      "('ASC_TRAIN', 'ASC_SM'):\t-0.000614\t-0.69\t-12.8\t0\t-0.00157\t-0.86\t-8.49\t0\n",
      "('B_COST', 'ASC_CAR'):\t0.00032\t0.263\t-23.8\t0\t0.000296\t0.189\t-17.9\t0\n",
      "('B_COST', 'ASC_SM'):\t-0.000164\t-0.109\t-22\t0\t0.000267\t0.0876\t-17.5\t0\n",
      "('B_COST', 'ASC_TRAIN'):\t-0.000156\t-0.0986\t-10.7\t0\t-0.000563\t-0.202\t-7.74\t1.02e-14\n",
      "('B_TIME', 'ASC_CAR'):\t-0.000207\t-0.155\t-21.7\t0\t-0.000682\t-0.285\t-12.5\t0\n",
      "('B_TIME', 'ASC_SM'):\t0.00123\t0.743\t-38.8\t0\t0.00414\t0.888\t-23.1\t0\n",
      "('B_TIME', 'ASC_TRAIN'):\t-0.00102\t-0.589\t-10.9\t0\t-0.00346\t-0.812\t-6.18\t6.48e-10\n",
      "('B_TIME', 'B_COST'):\t0.00055\t0.187\t-2.79\t0.00522\t0.0022\t0.309\t-1.84\t0.066\n",
      "\n"
     ]
    }
   ],
   "source": [
    "print(results)\n"
   ]
  }
 ],
 "metadata": {
  "colab": {
   "provenance": []
  },
  "kernelspec": {
   "display_name": "Python 3 (ipykernel)",
   "language": "python",
   "name": "python3"
  },
  "language_info": {
   "codemirror_mode": {
    "name": "ipython",
    "version": 3
   },
   "file_extension": ".py",
   "mimetype": "text/x-python",
   "name": "python",
   "nbconvert_exporter": "python",
   "pygments_lexer": "ipython3",
   "version": "3.9.7"
  }
 },
 "nbformat": 4,
 "nbformat_minor": 1
}
